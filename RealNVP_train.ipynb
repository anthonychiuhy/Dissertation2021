{
 "cells": [
  {
   "cell_type": "code",
   "execution_count": 1,
   "id": "2a8410b1-23fb-472b-9a9b-14b342e67b79",
   "metadata": {},
   "outputs": [],
   "source": [
    "import sys\n",
    "sys.path.append(sys.path[0] + '/deepkexpfam')"
   ]
  },
  {
   "cell_type": "code",
   "execution_count": 2,
   "id": "11356b48-dd9c-4c73-8ba2-7c4bcc9c3697",
   "metadata": {},
   "outputs": [],
   "source": [
    "import torch\n",
    "\n",
    "from flows import ObjectDataset, MLPLayers, AffineCouplingLayers, Flow\n",
    "from utils import save_object, load_object\n",
    "\n",
    "from Datasets import Spiral, Funnel, Ring, Grid, Banana, Uniform, Cosine, Multiring"
   ]
  },
  {
   "cell_type": "code",
   "execution_count": 3,
   "id": "74dc3023-c59e-434c-91ad-dbae77afcd0f",
   "metadata": {},
   "outputs": [
    {
     "name": "stdout",
     "output_type": "stream",
     "text": [
      "epoch = 1, log_like = -3473674.00000\n",
      "Funnel0\n",
      "epoch = 1, log_like = -3534585.75000\n",
      "Banana0\n",
      "epoch = 1, log_like = -3298438.50000\n",
      "Ring0\n",
      "epoch = 1, log_like = -3660780.50000\n",
      "Uniform0\n",
      "epoch = 1, log_like = -3569579.75000\n",
      "Cosine0\n",
      "epoch = 1, log_like = -2176781.75000\n",
      "Grid0\n",
      "epoch = 1, log_like = -4073317.75000\n",
      "Multiring0\n"
     ]
    }
   ],
   "source": [
    "# Spiral, Funnel, Ring, Grid, Banana, Uniform, Cosine, Multiring\n",
    "\n",
    "#iterations = 10000\n",
    "d = 1\n",
    "D = 2\n",
    "layers = 20\n",
    "sample_size = 1000000\n",
    "batch_size = 100\n",
    "epochs = 1\n",
    "lr = 0.001\n",
    "weight_decay = 0.01\n",
    "\n",
    "ensembles = 1\n",
    "save_path = './saved_flows/'\n",
    "\n",
    "\n",
    "names = ['Funnel', 'Banana', 'Ring', 'Uniform', 'Cosine', 'Grid', 'Multiring']\n",
    "objs = [Funnel(), Banana(), Ring(), Uniform(), Cosine(), Grid(), Multiring()]\n",
    "\n",
    "\n",
    "for i in range(len(objs)):\n",
    "    name = names[i]\n",
    "    obj = objs[i]\n",
    "    \n",
    "    for j in range(ensembles):\n",
    "        while True:\n",
    "            try:\n",
    "                flow = Flow(d, D, layers)\n",
    "                flow.train(obj, sample_size, batch_size, epochs, lr, weight_decay, show_progress=True)\n",
    "                save_object(flow, save_path+name+str(j))\n",
    "            except ValueError:\n",
    "                print('Value error')\n",
    "            except RuntimeError:\n",
    "                print('Runtime error')\n",
    "            else:\n",
    "                break\n",
    "        print(name + str(j))"
   ]
  },
  {
   "cell_type": "code",
   "execution_count": null,
   "id": "31776b58-72de-477e-a0ef-fe0742c55310",
   "metadata": {},
   "outputs": [],
   "source": []
  }
 ],
 "metadata": {
  "kernelspec": {
   "display_name": "Python 3",
   "language": "python",
   "name": "python3"
  },
  "language_info": {
   "codemirror_mode": {
    "name": "ipython",
    "version": 3
   },
   "file_extension": ".py",
   "mimetype": "text/x-python",
   "name": "python",
   "nbconvert_exporter": "python",
   "pygments_lexer": "ipython3",
   "version": "3.9.5"
  }
 },
 "nbformat": 4,
 "nbformat_minor": 5
}
